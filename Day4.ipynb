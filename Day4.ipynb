{
 "cells": [
  {
   "cell_type": "code",
   "execution_count": 29,
   "metadata": {},
   "outputs": [
    {
     "name": "stdout",
     "output_type": "stream",
     "text": [
      "p\n",
      "b\n",
      "f\n"
     ]
    }
   ],
   "source": [
    "# Read the input as string and Output will followed\n",
    "# Example #1:\n",
    "# Input    : orange \n",
    "# Output : puboif\n",
    "# Reason: Print the next consonent to the vowel and Print the vowel to the next consonent\n",
    "def conversion_str(s):\n",
    "    for i in range(len(s)):\n",
    "        if s[i]==\"a\" or s[i]=='e' or s[i]==\"i\" or s[i]==\"o\" or s[i]==\"u\":\n",
    "            print(chr(ord(s[i])+1))\n",
    "        else:\n",
    "            for i in range(ord(s[i]),ord(\"u\")+1 or ord(\"a\") or ord(\"e\") or ord(\"i\") or ord(\"o\"),1):\n",
    "                if i== ord(\"a\") and ord(\"e\") and ord(\"i\") and ord(\"0\") and ord(\"u\"):\n",
    "                    print(chr(i),end=\" \")\n",
    "            \n",
    "conversion_str(\"orange\")\n",
    "    "
   ]
  },
  {
   "cell_type": "code",
   "execution_count": 20,
   "metadata": {},
   "outputs": [
    {
     "data": {
      "text/plain": [
       "97"
      ]
     },
     "execution_count": 20,
     "metadata": {},
     "output_type": "execute_result"
    }
   ],
   "source": [
    "s=\"aello\"\n",
    "ord(s[0])"
   ]
  },
  {
   "cell_type": "markdown",
   "metadata": {},
   "source": [
    "### String Functions\n",
    "- true or false\n",
    "- islower() --> true if string has all lower case chars\n",
    "- isupper() --> true if string has all upper case chars\n",
    "- istitle() --> true if the string in title case\n",
    "- isnumeric() --> true if the string have all numeric\n",
    "- is alpha() --> true if the strings has all the alphabets\n",
    "- isspace --> true if the string has space"
   ]
  },
  {
   "cell_type": "code",
   "execution_count": 32,
   "metadata": {},
   "outputs": [
    {
     "name": "stdout",
     "output_type": "stream",
     "text": [
      "PYTHON\n",
      "python\n",
      "False\n"
     ]
    }
   ],
   "source": [
    "s1=\"python\"\n",
    "print(s1.upper())\n",
    "print(s1.lower())\n",
    "print(s1.isupper())"
   ]
  },
  {
   "cell_type": "code",
   "execution_count": 34,
   "metadata": {},
   "outputs": [
    {
     "name": "stdout",
     "output_type": "stream",
     "text": [
      "Python Programming\n",
      "True\n"
     ]
    }
   ],
   "source": [
    "s1=\"python programming\"\n",
    "print(s1.title())\n",
    "x=s1.title()\n",
    "print(x.istitle())"
   ]
  },
  {
   "cell_type": "code",
   "execution_count": 35,
   "metadata": {},
   "outputs": [
    {
     "name": "stdout",
     "output_type": "stream",
     "text": [
      "True\n",
      "False\n"
     ]
    }
   ],
   "source": [
    "s1=\"1234\"\n",
    "s2=\"pyth123\"\n",
    "print(s1.isnumeric())\n",
    "print(s2.isnumeric())"
   ]
  },
  {
   "cell_type": "code",
   "execution_count": 37,
   "metadata": {},
   "outputs": [
    {
     "name": "stdout",
     "output_type": "stream",
     "text": [
      "True\n",
      "False\n"
     ]
    }
   ],
   "source": [
    "s1=\"abcfhjugd\"\n",
    "s2=\"asadh24\"\n",
    "print(s1.isalpha())\n",
    "print(s2.isalpha())"
   ]
  },
  {
   "cell_type": "code",
   "execution_count": 40,
   "metadata": {},
   "outputs": [
    {
     "name": "stdout",
     "output_type": "stream",
     "text": [
      "True\n"
     ]
    }
   ],
   "source": [
    "s1=\" \"\n",
    "print(s1.isspace())"
   ]
  },
  {
   "cell_type": "markdown",
   "metadata": {},
   "source": [
    "### String Methods\n",
    "- split() -- returns the list of separated by whitespaces\n",
    "- replace() -- returns the string replaces by new char"
   ]
  },
  {
   "cell_type": "code",
   "execution_count": 44,
   "metadata": {},
   "outputs": [
    {
     "name": "stdout",
     "output_type": "stream",
     "text": [
      "['python', 'programming', 'is', 'easy']\n"
     ]
    }
   ],
   "source": [
    "s1=\"python programming is easy\"\n",
    "li=s1.split()\n",
    "print(li)"
   ]
  },
  {
   "cell_type": "code",
   "execution_count": 46,
   "metadata": {},
   "outputs": [
    {
     "name": "stdout",
     "output_type": "stream",
     "text": [
      "python-programming-is-easy\n"
     ]
    }
   ],
   "source": [
    "s1=\"python programming is easy\"\n",
    "li=s1.replace(\" \",\"-\")\n",
    "print(li)"
   ]
  },
  {
   "cell_type": "code",
   "execution_count": 59,
   "metadata": {},
   "outputs": [
    {
     "name": "stdout",
     "output_type": "stream",
     "text": [
      " python easy"
     ]
    }
   ],
   "source": [
    "# Read the input as string and Output will be alternate words in lower case\n",
    "# Example #1:\n",
    "# Input : Learn Python Programming EASy\n",
    "# Output : python easydef evenword(s):\n",
    "    count=0\n",
    "    #lis=[a,e,i,o,u]\n",
    "    for i in s:\n",
    "        if i==\" \":\n",
    "            count=count+1\n",
    "        if count%2==1:\n",
    "            if ord(i) in range(65,91):\n",
    "                print(chr(ord(i)+32),end=\"\")\n",
    "            else:\n",
    "                print(i,end=\"\")\n",
    "            \n",
    "evenword(\"Learn Python Programming EASy\")"
   ]
  },
  {
   "cell_type": "code",
   "execution_count": 158,
   "metadata": {},
   "outputs": [
    {
     "ename": "TypeError",
     "evalue": "not all arguments converted during string formatting",
     "output_type": "error",
     "traceback": [
      "\u001b[1;31m---------------------------------------------------------------------------\u001b[0m",
      "\u001b[1;31mTypeError\u001b[0m                                 Traceback (most recent call last)",
      "\u001b[1;32m<ipython-input-158-0ddfaaa7e013>\u001b[0m in \u001b[0;36m<module>\u001b[1;34m\u001b[0m\n\u001b[0;32m     10\u001b[0m                 \u001b[0mc\u001b[0m\u001b[1;33m=\u001b[0m\u001b[0mc\u001b[0m\u001b[1;33m+\u001b[0m\u001b[0mi\u001b[0m\u001b[1;33m\u001b[0m\u001b[1;33m\u001b[0m\u001b[0m\n\u001b[0;32m     11\u001b[0m     \u001b[0mprint\u001b[0m\u001b[1;33m(\u001b[0m\u001b[0mc\u001b[0m\u001b[1;33m)\u001b[0m\u001b[1;33m\u001b[0m\u001b[1;33m\u001b[0m\u001b[0m\n\u001b[1;32m---> 12\u001b[1;33m \u001b[0mevensum1\u001b[0m\u001b[1;33m(\u001b[0m\u001b[1;34m\"Applcdgfgfg8977\"\u001b[0m\u001b[1;33m)\u001b[0m\u001b[1;33m\u001b[0m\u001b[1;33m\u001b[0m\u001b[0m\n\u001b[0m",
      "\u001b[1;32m<ipython-input-158-0ddfaaa7e013>\u001b[0m in \u001b[0;36mevensum1\u001b[1;34m(s)\u001b[0m\n\u001b[0;32m      7\u001b[0m     \u001b[1;32mfor\u001b[0m \u001b[0mi\u001b[0m \u001b[1;32min\u001b[0m \u001b[0ms\u001b[0m\u001b[1;33m:\u001b[0m\u001b[1;33m\u001b[0m\u001b[1;33m\u001b[0m\u001b[0m\n\u001b[0;32m      8\u001b[0m         \u001b[1;32mif\u001b[0m \u001b[0mord\u001b[0m\u001b[1;33m(\u001b[0m\u001b[0mi\u001b[0m\u001b[1;33m)\u001b[0m\u001b[1;33m>=\u001b[0m\u001b[1;36m48\u001b[0m \u001b[1;32mand\u001b[0m \u001b[0mord\u001b[0m\u001b[1;33m(\u001b[0m\u001b[0mi\u001b[0m\u001b[1;33m)\u001b[0m\u001b[1;33m<=\u001b[0m\u001b[1;36m57\u001b[0m\u001b[1;33m:\u001b[0m\u001b[1;33m\u001b[0m\u001b[1;33m\u001b[0m\u001b[0m\n\u001b[1;32m----> 9\u001b[1;33m             \u001b[1;32mif\u001b[0m \u001b[0mi\u001b[0m\u001b[1;33m%\u001b[0m\u001b[1;36m2\u001b[0m\u001b[1;33m==\u001b[0m\u001b[1;36m0\u001b[0m\u001b[1;33m:\u001b[0m\u001b[1;33m\u001b[0m\u001b[1;33m\u001b[0m\u001b[0m\n\u001b[0m\u001b[0;32m     10\u001b[0m                 \u001b[0mc\u001b[0m\u001b[1;33m=\u001b[0m\u001b[0mc\u001b[0m\u001b[1;33m+\u001b[0m\u001b[0mi\u001b[0m\u001b[1;33m\u001b[0m\u001b[1;33m\u001b[0m\u001b[0m\n\u001b[0;32m     11\u001b[0m     \u001b[0mprint\u001b[0m\u001b[1;33m(\u001b[0m\u001b[0mc\u001b[0m\u001b[1;33m)\u001b[0m\u001b[1;33m\u001b[0m\u001b[1;33m\u001b[0m\u001b[0m\n",
      "\u001b[1;31mTypeError\u001b[0m: not all arguments converted during string formatting"
     ]
    }
   ],
   "source": [
    "# Read the input as string and Print the Output as Only even digit sum\n",
    "# Example #1:\n",
    "# Input : Applc18iation89\n",
    "# Output : 16 (8+8)\n",
    "def evensum1(s):\n",
    "    c=0\n",
    "    for i in s:\n",
    "        if ord(i)>=48 and ord(i)<=57:\n",
    "            if i%2==0:\n",
    "                c=c+i\n",
    "    print(c)\n",
    "evensum1(\"Applcdgfgfg8977\")"
   ]
  },
  {
   "cell_type": "markdown",
   "metadata": {},
   "source": [
    "### String Formatting\n",
    "- classic version\n",
    "- current version"
   ]
  },
  {
   "cell_type": "code",
   "execution_count": 61,
   "metadata": {},
   "outputs": [
    {
     "name": "stdout",
     "output_type": "stream",
     "text": [
      "python programming\n"
     ]
    }
   ],
   "source": [
    "#classic versi0n\n",
    "li=[\"python\",\"programming\"]\n",
    "print('%s %s'%(li[0],li[1]))"
   ]
  },
  {
   "cell_type": "code",
   "execution_count": 66,
   "metadata": {},
   "outputs": [
    {
     "name": "stdout",
     "output_type": "stream",
     "text": [
      "1 2 3 4\n",
      "4\n"
     ]
    }
   ],
   "source": [
    "li=[1,2,3,4]\n",
    "print('%d %d %d %d' %(li[0],li[1],li[2],li[3]))\n",
    "\n",
    "    "
   ]
  },
  {
   "cell_type": "code",
   "execution_count": 65,
   "metadata": {},
   "outputs": [
    {
     "name": "stdout",
     "output_type": "stream",
     "text": [
      "list item 0 python \n",
      "list item 1 programming \n"
     ]
    }
   ],
   "source": [
    "#format\n",
    "li =[\"python\",\"programming\"]\n",
    "print(\"list item 0 {0} \\nlist item 1 {1} \".format(li[0],li[1]))"
   ]
  },
  {
   "cell_type": "markdown",
   "metadata": {},
   "source": [
    "### data structures\n",
    "- list\n",
    "- tuples\n",
    "- dictionaries"
   ]
  },
  {
   "cell_type": "markdown",
   "metadata": {},
   "source": [
    "### Dictionaries\n",
    "- it works on concept of unique data\n",
    "- key,value is the unique identifier a alue\n",
    "- each key is separated froma value colon\n",
    "- each key and value is separated by comma(,)\n",
    "- dictionaries are enclosed with curly braces"
   ]
  },
  {
   "cell_type": "code",
   "execution_count": 109,
   "metadata": {},
   "outputs": [
    {
     "name": "stdout",
     "output_type": "stream",
     "text": [
      "{'name': 'gitam', 'email_id': 'gitam@gmail.com', 'address': 'vizag'}\n"
     ]
    }
   ],
   "source": [
    "d1={\"name\":\"gitam\",\"email_id\":\"gitam@gmail.com\",\"address\":\"vizag\"}\n",
    "print(d1)"
   ]
  },
  {
   "cell_type": "code",
   "execution_count": 111,
   "metadata": {},
   "outputs": [
    {
     "name": "stdout",
     "output_type": "stream",
     "text": [
      "{'name': 'gitam', 'email_id': 'gitam@gmail.com', 'address': 'vizag', 'email': 'jhgyhjkj'}\n"
     ]
    }
   ],
   "source": [
    "d1[\"email\"]=\"jhgyhjkj\"\n",
    "print(d1)"
   ]
  },
  {
   "cell_type": "code",
   "execution_count": 80,
   "metadata": {},
   "outputs": [
    {
     "name": "stdout",
     "output_type": "stream",
     "text": [
      "{'name': 'gitam', 'email_id': 'gitamcse@yahoo.com', 'address': 'vizag'}\n"
     ]
    }
   ],
   "source": [
    "d1[\"email_id\"]=\"gitamcse@yahoo.com\"\n",
    "print(d1)"
   ]
  },
  {
   "cell_type": "code",
   "execution_count": 81,
   "metadata": {},
   "outputs": [
    {
     "data": {
      "text/plain": [
       "dict_keys(['name', 'email_id', 'address'])"
      ]
     },
     "execution_count": 81,
     "metadata": {},
     "output_type": "execute_result"
    }
   ],
   "source": [
    "d1.keys()"
   ]
  },
  {
   "cell_type": "code",
   "execution_count": 105,
   "metadata": {},
   "outputs": [
    {
     "name": "stdout",
     "output_type": "stream",
     "text": [
      "dict_values(['gitam', 'gitam@gmail.com', 'vizag'])\n",
      "{'name': 'gitam', 'email_id': 'gitam@gmail.com', 'address': 'vizag'}\n"
     ]
    }
   ],
   "source": [
    "print(d1.values())\n",
    "#del d1[\"address\"]\n",
    "print(d1)"
   ]
  },
  {
   "cell_type": "code",
   "execution_count": 92,
   "metadata": {},
   "outputs": [],
   "source": [
    "del d1"
   ]
  },
  {
   "cell_type": "code",
   "execution_count": 102,
   "metadata": {},
   "outputs": [
    {
     "name": "stdout",
     "output_type": "stream",
     "text": [
      "{'name': 'gitam', 'email_id': 'gitam@gmail.com', 'address': 'vizag'}\n"
     ]
    }
   ],
   "source": [
    "print(d1)\n"
   ]
  },
  {
   "cell_type": "markdown",
   "metadata": {},
   "source": [
    "### Contact application \n",
    "- add contact details\n",
    "- search the contacts details\n",
    "- list all the contacts\n",
    "- modify and update details\n",
    "- delete te contact details"
   ]
  },
  {
   "cell_type": "code",
   "execution_count": 114,
   "metadata": {},
   "outputs": [
    {
     "name": "stdout",
     "output_type": "stream",
     "text": [
      "contact details are added successfully\n",
      "contact details are added successfully\n",
      "{'dinesh': '9909765479', 'ajay': '8655678998'}\n"
     ]
    }
   ],
   "source": [
    "contact={}\n",
    "def addcontact(name,phone):\n",
    "    if name not in contact:\n",
    "        contact[name]=phone\n",
    "        print('contact details are added successfully')\n",
    "    else:\n",
    "        print('name is already exists')\n",
    "    return\n",
    "addcontact('dinesh','9909765479')\n",
    "addcontact('ajay','8655678998')\n",
    "print(contact)\n",
    "    "
   ]
  },
  {
   "cell_type": "code",
   "execution_count": 120,
   "metadata": {},
   "outputs": [
    {
     "name": "stdout",
     "output_type": "stream",
     "text": [
      "dinesh  9909765479  successful\n",
      "unsuccessful\n",
      "unsuccessful\n"
     ]
    }
   ],
   "source": [
    "contact={'dinesh': '9909765479', 'ajay': '8655678998'}\n",
    "def searchcontact(name):\n",
    "    if name in contact:\n",
    "        print(name,\"\",contact[name],\" successful\")\n",
    "    else:\n",
    "        print(\"unsuccessful\")\n",
    "searchcontact(\"dinesh\")\n",
    "searchcontact(\"jamkaya\")\n"
   ]
  },
  {
   "cell_type": "code",
   "execution_count": 143,
   "metadata": {},
   "outputs": [
    {
     "name": "stdout",
     "output_type": "stream",
     "text": [
      "5\n",
      "3 contacts are added\n"
     ]
    }
   ],
   "source": [
    "# import new contact details\n",
    "# merge the previous details with new details\n",
    "def importcontacts(newcontacts):\n",
    "    print(len(contact.keys()))\n",
    "    contact.update(newcontacts)\n",
    "    print(len(newcontacts.keys()),'contacts are added')\n",
    "    return\n",
    "newcontacts={\"gitam\":9876549876,\"anil\":8765434576,\"python\":3456789889}\n",
    "importcontacts(newcontacts)"
   ]
  },
  {
   "cell_type": "code",
   "execution_count": 141,
   "metadata": {},
   "outputs": [
    {
     "name": "stdout",
     "output_type": "stream",
     "text": [
      "{'dinesh': '9909765479', 'ajay': '8655678998', 'gitam': 9876549876, 'anil': 8765434576, 'python': 3456789889}\n"
     ]
    }
   ],
   "source": [
    "print(contact)"
   ]
  },
  {
   "cell_type": "code",
   "execution_count": 137,
   "metadata": {},
   "outputs": [
    {
     "name": "stdout",
     "output_type": "stream",
     "text": [
      "gitam   23456776543\n"
     ]
    }
   ],
   "source": [
    "def modifycontact(name,phone):\n",
    "    if name in  contact:\n",
    "        contact[name]=phone\n",
    "        print(name,\" \", phone)\n",
    "    else:\n",
    "        print(name,\" not exists\")\n",
    "    return\n",
    "modifycontact(\"gitam\",23456776543)\n",
    "        "
   ]
  },
  {
   "cell_type": "code",
   "execution_count": 147,
   "metadata": {},
   "outputs": [
    {
     "name": "stdout",
     "output_type": "stream",
     "text": [
      "{'ajay': '8655678998', 'gitam': 9876549876, 'anil': 8765434576, 'python': 3456789889}\n"
     ]
    }
   ],
   "source": [
    "contact={'dinesh': '9909765479', 'ajay': '8655678998', 'gitam': 9876549876, 'anil': 8765434576, 'python': 3456789889}\n",
    "def deletecontact(name):\n",
    "    if name in contact:\n",
    "        del contact[name]\n",
    "        print(contact)\n",
    "    else:\n",
    "        print(\"not available\")\n",
    "    return\n",
    "deletecontact(\"dinesh\")"
   ]
  },
  {
   "cell_type": "markdown",
   "metadata": {},
   "source": [
    "### Standard libraries\n",
    "- regular expressions\n",
    " - to validate inidan mobile\n",
    " - to validate the email\n",
    " - to valdate the usename\n",
    " - to validate the password\n",
    "- understanding the regular expressions\n",
    " - [0-9] --- any digit matching\n",
    " - [a-z] --- any lower case matching\n",
    " - [A-Z] --- any upper case matching\n",
    "- cap symbol is used to represent the strat of regular expressions\n",
    "- dollar symbol is used represent the end  "
   ]
  },
  {
   "cell_type": "code",
   "execution_count": 151,
   "metadata": {},
   "outputs": [
    {
     "name": "stdout",
     "output_type": "stream",
     "text": [
      "True\n",
      "False\n"
     ]
    }
   ],
   "source": [
    "#function to testthe two digit number as input\n",
    "# True -- input two digit number\n",
    "# False -- input not a two digit number\n",
    "import re\n",
    "def twodigitmatching(n):\n",
    "    pattern = \"^[0-9]{2}$\"\n",
    "    n=str(n)\n",
    "    if re.match(pattern,n):\n",
    "        return True\n",
    "    return False\n",
    "print(twodigitmatching(12))\n",
    "print(twodigitmatching(123))"
   ]
  },
  {
   "cell_type": "code",
   "execution_count": 156,
   "metadata": {},
   "outputs": [
    {
     "name": "stdout",
     "output_type": "stream",
     "text": [
      "True\n",
      "False\n"
     ]
    }
   ],
   "source": [
    "# regular expression for testing username\n",
    "# usernme -- should contain lower and upper case characters\n",
    "# length -- 5 - 12\n",
    "import re\n",
    "def usernamematching(n):\n",
    "    pattern = \"^[a-zA-Z]{5,12}$\"\n",
    "    #n=str(n)\n",
    "    if re.match(pattern,n):\n",
    "        return True\n",
    "    return False\n",
    "print(usernamematching(\"rohith\"))\n",
    "print(usernamematching(\"gfdsrdtfyguhijoknjbvcx\"))"
   ]
  },
  {
   "cell_type": "markdown",
   "metadata": {},
   "source": [
    "### RegulAR Expression for Indian Mobile\n",
    "- 10 digit number\n",
    " - first number starts from [6-9]\n",
    "- 11 digit number\n",
    " - first number can be 0\n",
    " - second number can be [6-9]\n",
    " - rest of the numbers is between [0-9]\n",
    "  - example : 09851741520\n",
    "  - example : 99851741520\n",
    "- 13 digit number\n",
    " - first number can be +\n",
    " - second number can 9\n",
    " - third number can be 1\n",
    " - rest of the no. is between"
   ]
  },
  {
   "cell_type": "code",
   "execution_count": 159,
   "metadata": {},
   "outputs": [
    {
     "data": {
      "text/plain": [
       "True"
      ]
     },
     "execution_count": 159,
     "metadata": {},
     "output_type": "execute_result"
    }
   ],
   "source": [
    "# Rule 1 : ^[6-9][0-9]{9}\n",
    "# Rule 2 : ^[0][6-9][0-9]{9}\n",
    "# Rule 3 : ^[+][9][1][6-9][0-9]{9}\n",
    "import re\n",
    "def validateindianphone(n):\n",
    "    pattern = '^[6-9][0-9]{9}$|^[0][6-9][0-9]{9}$|^[+][9][1][6-9][0-9]{9}$'\n",
    "    n=str(n)\n",
    "    if re.match(pattern,n):\n",
    "        return True\n",
    "    return False\n",
    "validateindianphone('+919988774455')"
   ]
  },
  {
   "cell_type": "markdown",
   "metadata": {},
   "source": [
    "### Validating the EmailId\n",
    "- Example : Username@domainName.extension\n",
    "- Example : dsps@gmail.com\n",
    "- UserName : \n",
    " - len of string will be [6-9]\n",
    " - no spl characters except Underscore(_)(.)\n",
    " - Username should not begin with the Underscore(_)\n",
    " - All the characters set Digits , Lower Case , Upper Case\n",
    "   - Example : Anil_1889\n",
    "- DomianName\n",
    " - len of the string will be [3-18]\n",
    " - No spl characters\n",
    " - characters set will be digits , lower case and upper case\n",
    "   - example : gmail , hotmail , ymail , rediff and etc\n",
    "- Extensions\n",
    " - len of the extension should be [2-4]\n",
    " - no spl charatcters allowed\n",
    " - characters set will lower case caracters"
   ]
  },
  {
   "cell_type": "code",
   "execution_count": 161,
   "metadata": {},
   "outputs": [
    {
     "data": {
      "text/plain": [
       "True"
      ]
     },
     "execution_count": 161,
     "metadata": {},
     "output_type": "execute_result"
    }
   ],
   "source": [
    "# user name: ^[a-zA-Z0-9][a-zA-Z0-9_.]{5,15}\n",
    "# domain : [a-zA-Z0-9]{3,18}\n",
    "# extension : [a-z]{2,4}$\n",
    "import re\n",
    "def validateemail(email):\n",
    "    pattern = '^[a-zA-Z0-9][a-zA-Z0-9_.]{5,15}[@][a-zA-Z0-9]{3,18}[.][a-z]{2,4}$'\n",
    "    email=str(email)\n",
    "    if re.match(pattern,email):\n",
    "        return True\n",
    "    return False\n",
    "validateemail('Anilkumar1889@hotmail.com')"
   ]
  },
  {
   "cell_type": "code",
   "execution_count": 162,
   "metadata": {},
   "outputs": [
    {
     "data": {
      "text/plain": [
       "123"
      ]
     },
     "execution_count": 162,
     "metadata": {},
     "output_type": "execute_result"
    }
   ],
   "source": [
    "import math\n",
    "math.floor(123.457)"
   ]
  },
  {
   "cell_type": "code",
   "execution_count": 164,
   "metadata": {},
   "outputs": [
    {
     "data": {
      "text/plain": [
       "124"
      ]
     },
     "execution_count": 164,
     "metadata": {},
     "output_type": "execute_result"
    }
   ],
   "source": [
    "math.ceil(123.5678)"
   ]
  },
  {
   "cell_type": "code",
   "execution_count": 165,
   "metadata": {},
   "outputs": [
    {
     "data": {
      "text/plain": [
       "120"
      ]
     },
     "execution_count": 165,
     "metadata": {},
     "output_type": "execute_result"
    }
   ],
   "source": [
    "from math import factorial as fact\n",
    "fact(5)"
   ]
  },
  {
   "cell_type": "code",
   "execution_count": 166,
   "metadata": {},
   "outputs": [
    {
     "data": {
      "text/plain": [
       "5"
      ]
     },
     "execution_count": 166,
     "metadata": {},
     "output_type": "execute_result"
    }
   ],
   "source": [
    "from math import gcd as g\n",
    "g(10,15)"
   ]
  },
  {
   "cell_type": "code",
   "execution_count": 167,
   "metadata": {},
   "outputs": [
    {
     "name": "stdout",
     "output_type": "stream",
     "text": [
      "2 4 5 4 0 6 4 2 0 3 "
     ]
    }
   ],
   "source": [
    "import random\n",
    "def generateRandom(n,lb,ub):\n",
    "    for i in range(0,n):\n",
    "        \n",
    "        print(random.randint(lb,ub),end=\" \")\n",
    "    return\n",
    "generateRandom(10,0,6)"
   ]
  },
  {
   "cell_type": "code",
   "execution_count": 170,
   "metadata": {},
   "outputs": [
    {
     "name": "stdout",
     "output_type": "stream",
     "text": [
      "try again!!\n"
     ]
    }
   ],
   "source": [
    "# create a simple game\n",
    "# try to generate 20 number\n",
    "# input : number\n",
    "# output : congrates!!\n",
    "from random import randint as rdint\n",
    "def generateNumber(n,lb,ub):\n",
    "    lis=[]\n",
    "    for i in range(0,n):\n",
    "        li.append(rdint(lb,ub))\n",
    "    return li\n",
    "def check(n):\n",
    "    li=generateNumber(20,100,999)\n",
    "    if n in li:\n",
    "        print('Congrates!!')\n",
    "    else:\n",
    "        print('try again!!')\n",
    "    return\n",
    "check(569)"
   ]
  },
  {
   "cell_type": "code",
   "execution_count": null,
   "metadata": {},
   "outputs": [],
   "source": []
  }
 ],
 "metadata": {
  "kernelspec": {
   "display_name": "Python 3",
   "language": "python",
   "name": "python3"
  },
  "language_info": {
   "codemirror_mode": {
    "name": "ipython",
    "version": 3
   },
   "file_extension": ".py",
   "mimetype": "text/x-python",
   "name": "python",
   "nbconvert_exporter": "python",
   "pygments_lexer": "ipython3",
   "version": "3.7.3"
  }
 },
 "nbformat": 4,
 "nbformat_minor": 2
}
