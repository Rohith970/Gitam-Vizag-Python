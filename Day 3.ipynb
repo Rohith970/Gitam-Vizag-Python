{
 "cells": [
  {
   "cell_type": "code",
   "execution_count": 1,
   "metadata": {},
   "outputs": [
    {
     "name": "stdout",
     "output_type": "stream",
     "text": [
      "python\n",
      "python_prog\n",
      "a\n",
      "<class 'str'>\n",
      "<class 'str'>\n",
      "<class 'str'>\n"
     ]
    }
   ],
   "source": [
    "a=\"python\"\n",
    "b=\"python_prog\"\n",
    "c=\"a\"\n",
    "print(a)\n",
    "print(b)\n",
    "print(c)\n",
    "print(type(a))\n",
    "print(type(b))\n",
    "print(type(c))"
   ]
  },
  {
   "cell_type": "code",
   "execution_count": 2,
   "metadata": {},
   "outputs": [
    {
     "name": "stdout",
     "output_type": "stream",
     "text": [
      " enter a no to find factorial6\n",
      "1\n",
      "2\n",
      "3\n",
      "6\n"
     ]
    }
   ],
   "source": [
    "#fators of a given no\n",
    "n=int(input(\" enter a no to find factorial\"))\n",
    "for i in range (1,n+1):\n",
    "    if n%i==0:\n",
    "        print(i)"
   ]
  },
  {
   "cell_type": "code",
   "execution_count": 7,
   "metadata": {},
   "outputs": [
    {
     "name": "stdout",
     "output_type": "stream",
     "text": [
      " enter a no to find prime or not 56\n",
      "false\n"
     ]
    }
   ],
   "source": [
    "n=int(input(\" enter a no to find prime or not \"))\n",
    "count=0\n",
    "for i in range (2,n):\n",
    "    if n%i==0:\n",
    "        count=1\n",
    "if count==1:\n",
    "    print(\"false\")\n",
    "else:\n",
    "    print(\"true\")\n",
    "        "
   ]
  },
  {
   "cell_type": "code",
   "execution_count": 8,
   "metadata": {},
   "outputs": [
    {
     "name": "stdout",
     "output_type": "stream",
     "text": [
      "p\n",
      "y\n",
      "6\n",
      "n\n",
      "n\n",
      "o\n"
     ]
    }
   ],
   "source": [
    "s1=\"python\"\n",
    "print(s1[0])\n",
    "print(s1[1])\n",
    "print(len(s1))\n",
    "print(s1[len(s1)-1])\n",
    "print(s1[-1])\n",
    "print(s1[-2])"
   ]
  },
  {
   "cell_type": "code",
   "execution_count": 2,
   "metadata": {},
   "outputs": [
    {
     "name": "stdout",
     "output_type": "stream",
     "text": [
      " enter a no  1\n",
      " enter a no  100\n",
      "18\n"
     ]
    }
   ],
   "source": [
    "#palindrome nos btw two limits\n",
    "m=int(input(\" enter a no  \"))\n",
    "n=int(input(\" enter a no  \"))\n",
    "#global count\n",
    "\n",
    "def palindo(m,n):\n",
    "    count=0\n",
    "    u=0\n",
    "    for i in range (m,n+1):\n",
    "        k=i\n",
    "        s=0\n",
    "        \n",
    "        while i>0:\n",
    "            r=i%10\n",
    "            s=s*10+r\n",
    "            i=i//10\n",
    "        if s==k:\n",
    "            count=count+1\n",
    "        \n",
    "  \n",
    "    print(count)\n",
    "    \n",
    "palindo(m,n)\n",
    "\n",
    "   \n"
   ]
  },
  {
   "cell_type": "code",
   "execution_count": 100,
   "metadata": {},
   "outputs": [
    {
     "name": "stdout",
     "output_type": "stream",
     "text": [
      "py\n",
      "python programmin\n",
      "hon programming\n",
      "tho\n",
      "ython programmin\n"
     ]
    }
   ],
   "source": [
    "print(s1[0:2])# access the first two nos\n",
    "print(s1[:-1])#access the last two characters\n",
    "print(s1[3:])#access the character from 3 till last\n",
    "print(s1[2:5])#access the characters from 2 to 5\n",
    "print(s1[1:-1])#access the characters except first and last"
   ]
  },
  {
   "cell_type": "code",
   "execution_count": 20,
   "metadata": {},
   "outputs": [
    {
     "data": {
      "text/plain": [
       "'nohtyp'"
      ]
     },
     "execution_count": 20,
     "metadata": {},
     "output_type": "execute_result"
    }
   ],
   "source": [
    "def reversestr(s):\n",
    "    return s[-1::-1]\n",
    "reversestr(\"python\")"
   ]
  },
  {
   "cell_type": "code",
   "execution_count": 52,
   "metadata": {},
   "outputs": [
    {
     "name": "stdout",
     "output_type": "stream",
     "text": [
      "True\n"
     ]
    }
   ],
   "source": [
    "def ispalindrome(s):\n",
    "    if s == s[-1::-1]:\n",
    "        return True\n",
    "    return False\n",
    "print(ispalindrome(\"python\"))\n",
    "    "
   ]
  },
  {
   "cell_type": "code",
   "execution_count": 60,
   "metadata": {},
   "outputs": [
    {
     "name": "stdout",
     "output_type": "stream",
     "text": [
      "P Y T H O N "
     ]
    }
   ],
   "source": [
    "#ascii\n",
    "#A-Z : 65 to 90\n",
    "#a - z : 97 to 122\n",
    "#space : 32\n",
    "#0 - 9 : 48 to 57\n",
    "def printupper(s):\n",
    "    for i in range(len(s)):\n",
    "        if ord(s[i])>=65 and ord(s[i])<=98:\n",
    "            print(s[i],end=\" \")\n",
    "    return\n",
    "printupper(\"PYTHON\")"
   ]
  },
  {
   "cell_type": "code",
   "execution_count": 57,
   "metadata": {},
   "outputs": [
    {
     "data": {
      "text/plain": [
       "97"
      ]
     },
     "execution_count": 57,
     "metadata": {},
     "output_type": "execute_result"
    }
   ],
   "source": [
    "ord('a')#gives the ascii of that charater\n"
   ]
  },
  {
   "cell_type": "code",
   "execution_count": 70,
   "metadata": {},
   "outputs": [
    {
     "name": "stdout",
     "output_type": "stream",
     "text": [
      "same count\n"
     ]
    }
   ],
   "source": [
    "def printupper(s):\n",
    "    c=0\n",
    "    k=0\n",
    "    for i in range(len(s)):\n",
    "        if ord(s[i])>=65 and ord(s[i])<=98:\n",
    "            c=c+1\n",
    "        else:\n",
    "            k=k+1\n",
    "    if k==c:\n",
    "        print(\"same count\")\n",
    "    else:\n",
    "        print(\"programming\")\n",
    "    return\n",
    "printupper(\"PYTong\")"
   ]
  },
  {
   "cell_type": "code",
   "execution_count": 7,
   "metadata": {},
   "outputs": [
    {
     "name": "stdout",
     "output_type": "stream",
     "text": [
      " 888\n",
      "6\n"
     ]
    }
   ],
   "source": [
    "# The digits 0,6,9 will have single  Circle so the weight will be 1\n",
    "# The digit 4 have single Triangle then the count will be 1\n",
    "# The digit 8 have two Circles so that the count will be 2\n",
    "n=int(input(\" \"))\n",
    "c=0\n",
    "while n>0:\n",
    "    r=n%10\n",
    "    if r==0 or r==6 or r==9:\n",
    "        c=c+1\n",
    "    if r==4:\n",
    "        c=c+1\n",
    "    if r==8:\n",
    "        c=c+2\n",
    "    n=n//10\n",
    "print(c)"
   ]
  },
  {
   "cell_type": "code",
   "execution_count": 9,
   "metadata": {},
   "outputs": [
    {
     "name": "stdout",
     "output_type": "stream",
     "text": [
      "1\n",
      "8\n",
      "8\n",
      "9\n"
     ]
    }
   ],
   "source": [
    "#extract the digits in string\n",
    "def printupper(s):\n",
    "    for i in range(len(s)):\n",
    "        if ord(s[i])>=48 and ord(s[i])<=57:\n",
    "            print(s[i])\n",
    "            \n",
    "    return\n",
    "printupper(\"appli18cation89\")"
   ]
  },
  {
   "cell_type": "code",
   "execution_count": 14,
   "metadata": {},
   "outputs": [
    {
     "name": "stdout",
     "output_type": "stream",
     "text": [
      "1\n",
      "8\n",
      "8\n",
      "9\n",
      "26\n"
     ]
    }
   ],
   "source": [
    "#extract the digits in string and summ of all the them\n",
    "def printupper(s):\n",
    "    k=0\n",
    "    for i in range(len(s)):\n",
    "        if ord(s[i])>=48 and ord(s[i])<=57:\n",
    "            print(s[i])\n",
    "            k=k+int(s[i])\n",
    "    print(k) \n",
    "    return\n",
    "printupper(\"appli18cation89\")"
   ]
  },
  {
   "cell_type": "code",
   "execution_count": 7,
   "metadata": {},
   "outputs": [
    {
     "name": "stdout",
     "output_type": "stream",
     "text": [
      "MADE"
     ]
    }
   ],
   "source": [
    "#fn to 2nd word in upper case\n",
    "#example\n",
    "# input : Python Made Easy\n",
    "# output : MADE\n",
    "\n",
    "# example 2:\n",
    "# input : Learn Pthyon Strings\n",
    "# Output : PYTHON\n",
    "#extract the digits in string\n",
    "def wordupper(s):\n",
    "    for i in range(len(s)):\n",
    "        if ord(s[i])==32:\n",
    "            i=i+1\n",
    "            while (ord(s[i])!=32):\n",
    "                print(s[i].upper(),end=\"\")\n",
    "                i=i+1\n",
    "            break\n",
    "           \n",
    "            \n",
    "    return\n",
    "wordupper(\"Python Made easy\")\n",
    "\n",
    "# 2nd method:\n",
    "# def wroduppercase(s):\n",
    "#     cntcount=0\n",
    "#     for i in range(len(s)):\n",
    "#         if ord(s[i])==32:\n",
    "#             cntspace+=1\n",
    "#         if cntspace==1:\n",
    "#             if ord(s[i])>=97 and ord(s[i])<=122:\n",
    "#                 print(chr(ord(s[i]-32),end=\"\"))\n",
    "#     return\n",
    "# worduppercase(\"python made easy\")"
   ]
  },
  {
   "cell_type": "markdown",
   "metadata": {},
   "source": [
    "### list\n",
    "- one of the data structure in python\n",
    "- data structure means to store , sort, search options\n",
    "- its one of the common data structure in python, the items of list are separated by comma and enclosed in a square brackets\n",
    "- example:\n",
    "        lis1=[1,2,3,4,]\n",
    "        lis2=[\"gitam\",1,2,1.97,\"vizag]\n",
    "        "
   ]
  },
  {
   "cell_type": "code",
   "execution_count": 18,
   "metadata": {},
   "outputs": [
    {
     "name": "stdout",
     "output_type": "stream",
     "text": [
      "[1, 8, 16, 9, 2]\n",
      "1\n",
      "2\n",
      "[16, 9, 2]\n",
      "[1, 8, 16, 9]\n",
      "[1, 8, 16, 9, 2]\n",
      "[2, 9, 16, 8, 1]\n"
     ]
    }
   ],
   "source": [
    "lis = [1,8,16,9,2]\n",
    "print(lis)\n",
    "print(lis[0])\n",
    "print(lis[-1])\n",
    "print(lis[2:])\n",
    "print(lis[:-1])\n",
    "print(lis[:])\n",
    "print(lis[-1::-1])\n"
   ]
  },
  {
   "cell_type": "code",
   "execution_count": 31,
   "metadata": {},
   "outputs": [
    {
     "name": "stdout",
     "output_type": "stream",
     "text": [
      "['gitam', 1582, 2018, 2019, 'viag']\n",
      "['gitam', 986, 2018, 'viag']\n",
      "4\n",
      "['gitam', 986, 2018, 'viag', 'gitam', 986, 2018, 'viag']\n",
      "True\n",
      "gitam 986 2018 viag \n",
      "9\n"
     ]
    }
   ],
   "source": [
    "lis=[\"gitam\",1582,2018,2019,\"viag\",]\n",
    "print(lis)\n",
    "lis[1]=986 #updating\n",
    "del lis[3] #deleting\n",
    "print(lis)\n",
    "print(len(lis))\n",
    "print(lis*2) #length ripetition\n",
    "print(\"gitam\" in lis)\n",
    "for i in lis:\n",
    "    print(i,end=\" \")\n",
    "print()\n"
   ]
  },
  {
   "cell_type": "code",
   "execution_count": 35,
   "metadata": {},
   "outputs": [
    {
     "name": "stdout",
     "output_type": "stream",
     "text": [
      "9\n",
      "35\n",
      "1\n",
      "1.2857142857142858\n",
      "1\n"
     ]
    }
   ],
   "source": [
    "li=[1,6,4,9,3,7,5]\n",
    "print(max(li))\n",
    "print(sum(li))\n",
    "print(min(li))\n",
    "print(max(li)/len(li))\n",
    "print(max(li)//len(li))"
   ]
  },
  {
   "cell_type": "code",
   "execution_count": 1,
   "metadata": {},
   "outputs": [
    {
     "ename": "NameError",
     "evalue": "name 'lis' is not defined",
     "output_type": "error",
     "traceback": [
      "\u001b[1;31m---------------------------------------------------------------------------\u001b[0m",
      "\u001b[1;31mNameError\u001b[0m                                 Traceback (most recent call last)",
      "\u001b[1;32m<ipython-input-1-06a18a67b12a>\u001b[0m in \u001b[0;36m<module>\u001b[1;34m\u001b[0m\n\u001b[1;32m----> 1\u001b[1;33m \u001b[0mprint\u001b[0m\u001b[1;33m(\u001b[0m\u001b[0mlis\u001b[0m\u001b[1;33m)\u001b[0m\u001b[1;33m\u001b[0m\u001b[1;33m\u001b[0m\u001b[0m\n\u001b[0m",
      "\u001b[1;31mNameError\u001b[0m: name 'lis' is not defined"
     ]
    }
   ],
   "source": [
    "print(lis)"
   ]
  },
  {
   "cell_type": "code",
   "execution_count": 29,
   "metadata": {},
   "outputs": [
    {
     "name": "stdout",
     "output_type": "stream",
     "text": [
      "2\n",
      "[4, 4, 6, 8, 9, 98]\n",
      "[4, 4, 6, 8, 9, 98, 7, 8, 4, 0]\n",
      "[0, 4, 8, 7, 98, 9, 8, 6, 4, 4]\n",
      "7\n"
     ]
    }
   ],
   "source": [
    "lis=[8,9,4,6]\n",
    "lis.append(8)\n",
    "lis.insert(2,98)\n",
    "lis.pop()\n",
    "lis.append(4)\n",
    "print(lis.count(4))\n",
    "lis.sort()\n",
    "print(lis)\n",
    "li=[7,8,4,0]\n",
    "lis.extend(li)\n",
    "print(lis)\n",
    "lis.reverse()\n",
    "print(lis)\n",
    "print(lis.index(6))\n"
   ]
  },
  {
   "cell_type": "code",
   "execution_count": null,
   "metadata": {},
   "outputs": [],
   "source": [
    "def largenumb(li):\n",
    "    li.sort()\n",
    "    return(li[-1])\n",
    "def genericlarge(li,n):\n",
    "    li.sort()\n",
    "    return li[-n]\n",
    "li = [19,1,25,6,9,45,22]\n",
    "print(largenumb(li))\n",
    "print(genericlarge(li,3))"
   ]
  },
  {
   "cell_type": "code",
   "execution_count": 35,
   "metadata": {},
   "outputs": [
    {
     "name": "stdout",
     "output_type": "stream",
     "text": [
      "1\n",
      "19\n"
     ]
    }
   ],
   "source": [
    "def smallnumb(li):\n",
    "    li.sort()\n",
    "    return(li[0])\n",
    "def genericsmall(li,n):\n",
    "    li.sort()\n",
    "    return li[n-1]\n",
    "li = [19,1,25,6,9,45,22]\n",
    "print(smallnumb(li))\n",
    "print(genericsmall(li,4))"
   ]
  },
  {
   "cell_type": "markdown",
   "metadata": {},
   "source": [
    "### File handling in Python\n",
    "- file - document which contains some information and resides on permanent\n",
    "- different types of file -- .txt,.pdf,.doc,.ppf and etc.....\n",
    "- input - keyboard\n",
    "- output - file system"
   ]
  },
  {
   "cell_type": "code",
   "execution_count": 49,
   "metadata": {},
   "outputs": [
    {
     "name": "stdout",
     "output_type": "stream",
     "text": [
      "file is successfully created and data has inserted\n"
     ]
    }
   ],
   "source": [
    "# Function to create file and write data to the file\n",
    "#mode -- w (it creates a new file an write some matter)\n",
    "#            if the file already exists with same name then it will rewrite the data\n",
    "def createfile(filename):\n",
    "    f=open(filename,'w')\n",
    "    for i in range(10):\n",
    "        f.write('This is %d line \\n '%i)\n",
    "    print(\"file is successfully created and data has inserted\")\n",
    "    return\n",
    "createfile('data.txt')\n"
   ]
  },
  {
   "cell_type": "code",
   "execution_count": 65,
   "metadata": {},
   "outputs": [
    {
     "name": "stdout",
     "output_type": "stream",
     "text": [
      "This is 0 line \n",
      " This is 1 line \n",
      " This is 2 line \n",
      " This is 3 line \n",
      " This is 4 line \n",
      " This is 5 line \n",
      " This is 6 line \n",
      " This is 7 line \n",
      " This is 8 line \n",
      " This is 9 line \n",
      " appending is also done succefully\n"
     ]
    }
   ],
   "source": [
    "# function to read a file\n",
    "def readFileData(filename):\n",
    "    f=open(filename,'r')\n",
    "    if f.mode=='r':\n",
    "        \n",
    "        a=f.read()\n",
    "        print(a)\n",
    "    f.close()\n",
    "    return\n",
    "readFileData('data.txt')"
   ]
  },
  {
   "cell_type": "code",
   "execution_count": 79,
   "metadata": {},
   "outputs": [
    {
     "name": "stdout",
     "output_type": "stream",
     "text": [
      "number of words in given file 45\n",
      "number of GITAM wrods in file 0\n",
      "number of THIS wods in file 10\n"
     ]
    }
   ],
   "source": [
    "# analysis on the file -- word count, char count , digit count\n",
    "def wordcount(filename):\n",
    "    with open(filename,'r') as f:\n",
    "        if f.mode=='r':\n",
    "            a=f.read()\n",
    "            li=a.split()\n",
    "            p=len(li)\n",
    "            print(\"number of words in given file\",p)\n",
    "           \n",
    "            print(\"number of GITAM wrods in file\",li.count(\"gitam\"))\n",
    "           \n",
    "            print(\"number of THIS wods in file\",li.count(\"This\"))\n",
    "    return \n",
    "wordcount('data.txt')"
   ]
  },
  {
   "cell_type": "code",
   "execution_count": 71,
   "metadata": {},
   "outputs": [
    {
     "data": {
      "text/plain": [
       "'C:\\\\Users\\\\dell\\\\Desktop\\\\program solving and programming\\\\16-9-19'"
      ]
     },
     "execution_count": 71,
     "metadata": {},
     "output_type": "execute_result"
    }
   ],
   "source": [
    "pwd\n"
   ]
  },
  {
   "cell_type": "code",
   "execution_count": 54,
   "metadata": {},
   "outputs": [
    {
     "name": "stdout",
     "output_type": "stream",
     "text": [
      "file is successfully appended\n"
     ]
    }
   ],
   "source": [
    "def appendmode(filename):\n",
    "    f=open(filename,'a')\n",
    "    \n",
    "    f.write('appending is also done succefully')\n",
    "    print(\"file is successfully appended\")\n",
    "    return\n",
    "appendmode('data.txt')\n"
   ]
  },
  {
   "cell_type": "code",
   "execution_count": 66,
   "metadata": {},
   "outputs": [
    {
     "name": "stdout",
     "output_type": "stream",
     "text": [
      "['python', 'programming']\n"
     ]
    }
   ],
   "source": [
    "s1=\"python programming\"\n",
    "print(s1.split())"
   ]
  },
  {
   "cell_type": "code",
   "execution_count": 91,
   "metadata": {},
   "outputs": [
    {
     "name": "stdout",
     "output_type": "stream",
     "text": [
      "203\n"
     ]
    }
   ],
   "source": [
    "def charCount(filename):\n",
    "    with open(filename,'r') as f:\n",
    "        if f.mode=='r':\n",
    "            a=f.read()\n",
    "            li=list(a)\n",
    "            #print(li)\n",
    "            k=len(li)\n",
    "#             for i in li:\n",
    "#                 if i !=\" \":\n",
    "#                     print(i,end='')\n",
    "            print(k)  \n",
    "            \n",
    "    return\n",
    "charCount('data.txt')"
   ]
  },
  {
   "cell_type": "code",
   "execution_count": 84,
   "metadata": {},
   "outputs": [
    {
     "name": "stdout",
     "output_type": "stream",
     "text": [
      "['p', 'y', 't', 'h', 'o', 'n', 'p', 'r', 'o', 'g', 'r', 'a', 'm', 'm', 'i', 'n', 'g']\n"
     ]
    }
   ],
   "source": [
    "s=\"pythonprogramming\"\n",
    "li=list(s)\n",
    "print(li)"
   ]
  },
  {
   "cell_type": "code",
   "execution_count": 93,
   "metadata": {},
   "outputs": [
    {
     "name": "stdout",
     "output_type": "stream",
     "text": [
      "['This is 0 line ', ' This is 1 line ', ' This is 2 line ', ' This is 3 line ', ' This is 4 line ', ' This is 5 line ', ' This is 6 line ', ' This is 7 line ', ' This is 8 line ', ' This is 9 line ', ' appending is also done succefully']\n"
     ]
    },
    {
     "data": {
      "text/plain": [
       "11"
      ]
     },
     "execution_count": 93,
     "metadata": {},
     "output_type": "execute_result"
    }
   ],
   "source": [
    "def findlinecount(filename):\n",
    "    with open(filename,'r') as f:\n",
    "        if f.mode=='r':\n",
    "            a=f.read()\n",
    "            li=a.split('\\n')\n",
    "        print(li)\n",
    "    return len(li)\n",
    "findlinecount('data.txt')"
   ]
  },
  {
   "cell_type": "code",
   "execution_count": 99,
   "metadata": {},
   "outputs": [
    {
     "data": {
      "text/plain": [
       "'Upper case:10 lower case :93 digit:10'"
      ]
     },
     "execution_count": 99,
     "metadata": {},
     "output_type": "execute_result"
    }
   ],
   "source": [
    "#fn to find the uppeer and lower case characters\n",
    "#from the input stream\n",
    "def casecount(filename):\n",
    "    cntupper=0\n",
    "    cntlower=0\n",
    "    cntnumber=0\n",
    "    with open(filename,'r') as f:\n",
    "        if f.mode=='r':\n",
    "            a=f.read()\n",
    "            li=list(a)\n",
    "    for i in range(len(li)):\n",
    "        if ord(li[i])>=65 and ord(li[i])<=90:\n",
    "            cntupper=cntupper+1\n",
    "        elif ord(li[i])>=97 and ord(li[i])<=112:\n",
    "            cntlower+=1\n",
    "        elif ord(li[i])>=48 and ord(li[i])<=57:\n",
    "            cntnumber+=1\n",
    "    output= 'Upper case:{0} lower case :{1} digit:{2}'.format(cntupper,cntlower,cntnumber)\n",
    "    return output\n",
    "casecount('data.txt')"
   ]
  },
  {
   "cell_type": "code",
   "execution_count": 102,
   "metadata": {},
   "outputs": [
    {
     "name": "stdout",
     "output_type": "stream",
     "text": [
      "3\n"
     ]
    }
   ],
   "source": [
    "str='abababadaadbbaccabc'\n",
    "print(str.count('ab',-17,-1))"
   ]
  },
  {
   "cell_type": "code",
   "execution_count": null,
   "metadata": {},
   "outputs": [],
   "source": []
  }
 ],
 "metadata": {
  "kernelspec": {
   "display_name": "Python 3",
   "language": "python",
   "name": "python3"
  },
  "language_info": {
   "codemirror_mode": {
    "name": "ipython",
    "version": 3
   },
   "file_extension": ".py",
   "mimetype": "text/x-python",
   "name": "python",
   "nbconvert_exporter": "python",
   "pygments_lexer": "ipython3",
   "version": "3.7.3"
  }
 },
 "nbformat": 4,
 "nbformat_minor": 2
}
