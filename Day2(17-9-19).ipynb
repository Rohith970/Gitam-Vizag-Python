{
 "cells": [
  {
   "cell_type": "code",
   "execution_count": 1,
   "metadata": {},
   "outputs": [
    {
     "name": "stdout",
     "output_type": "stream",
     "text": [
      "enter a year2000\n",
      "leap year\n"
     ]
    }
   ],
   "source": [
    "year=int(input(\"enter a year\"))\n",
    "if year%400 ==0 or (year %100!=0 and year %4 ==0):\n",
    "    print (\"leap year\")\n",
    "else:\n",
    "    print(\"not a leap year\")"
   ]
  },
  {
   "cell_type": "code",
   "execution_count": 8,
   "metadata": {},
   "outputs": [
    {
     "name": "stdout",
     "output_type": "stream",
     "text": [
      "enter a no12\n",
      "1 2 3 4 5 6 7 8 9 10 11 12 sum= 78\n"
     ]
    }
   ],
   "source": [
    "n=int(input(\"enter a no\"))\n",
    "i=1\n",
    "sum=0\n",
    "while i<=n:\n",
    "    print(i,end=\" \")\n",
    "    sum=sum+i\n",
    "    i=i+1\n",
    "    \n",
    "print(\"sum=\" ,sum)"
   ]
  },
  {
   "cell_type": "code",
   "execution_count": 6,
   "metadata": {},
   "outputs": [
    {
     "name": "stdout",
     "output_type": "stream",
     "text": [
      "enter a no45\n",
      "2 4 6 8 10 12 14 16 18 20 22 24 26 28 30 32 34 36 38 40 42 44 \n",
      "sum =  506\n"
     ]
    }
   ],
   "source": [
    "n=int(input(\"enter a no\"))\n",
    "i=1\n",
    "sum=0\n",
    "while i<=n:\n",
    "    if i%2==0:\n",
    "        print(i,end=\" \")\n",
    "        sum=sum+i\n",
    "    i=i+1\n",
    "    \n",
    "print(\"\\nsum = \",sum)"
   ]
  },
  {
   "cell_type": "code",
   "execution_count": 7,
   "metadata": {},
   "outputs": [
    {
     "name": "stdout",
     "output_type": "stream",
     "text": [
      "enter a no1234\n",
      "4 3 2 1 "
     ]
    }
   ],
   "source": [
    "#read a number\n",
    "#output should be digita of the number\n",
    "#input:1234\n",
    "#output:4 3 2 1 \n",
    "n=int(input(\"enter a no\"))\n",
    "while n>0:\n",
    "    r=n%10\n",
    "    print(r,end=\" \")\n",
    "    n=n//10\n",
    "    "
   ]
  },
  {
   "cell_type": "markdown",
   "metadata": {},
   "source": [
    "### functional programming\n",
    "- simple\n",
    "- easy understand\n",
    "- better reusability\n",
    "- lengthy programs are divided into small programs\n"
   ]
  },
  {
   "cell_type": "code",
   "execution_count": null,
   "metadata": {},
   "outputs": [],
   "source": [
    "def name_of_the_function(<parameters>):\n",
    "    statements\n",
    "    return"
   ]
  },
  {
   "cell_type": "code",
   "execution_count": null,
   "metadata": {},
   "outputs": [],
   "source": [
    "#read a number\n",
    "#print the even digit sum\n",
    "#input: 1234\n",
    "#output : 6\n",
    "k=int(input(\"enter a no\"))\n",
    "evenDigisum(k)\n",
    "def evenDigisum(n):\n",
    "    \n",
    "    s=0\n",
    "    while n>0:\n",
    "    \n",
    "        r=n%10\n",
    "        \n",
    "        if r%2==0:\n",
    "                print(r,end=\" \")\n",
    "                s=s+r\n",
    "        n=n//10\n",
    "    print(\"\\nsumof even nos: \",s)"
   ]
  },
  {
   "cell_type": "code",
   "execution_count": 9,
   "metadata": {},
   "outputs": [
    {
     "name": "stdout",
     "output_type": "stream",
     "text": [
      "enter a no 8976545\n",
      "9\n"
     ]
    }
   ],
   "source": [
    "k=int(input(\"enter a no \"))\n",
    "\n",
    "\n",
    "def high_digit(n):\n",
    "    max=0\n",
    "    \n",
    "    while n>0:\n",
    "        r=n%10\n",
    "        if r>max:\n",
    "            max=r\n",
    "        n=n//10\n",
    "    return(max)\n",
    "print(high_digit(k))\n",
    "    "
   ]
  },
  {
   "cell_type": "code",
   "execution_count": 18,
   "metadata": {},
   "outputs": [
    {
     "name": "stdout",
     "output_type": "stream",
     "text": [
      "enter a no 145\n",
      "120\n",
      "24\n",
      "1\n",
      "yes\n"
     ]
    }
   ],
   "source": [
    "#read a number\n",
    "#output yes or not\n",
    "#input: yes\n",
    "#output: no\n",
    "#individual digi sum sum is same as input number\n",
    "k=int(input(\"enter a no \"))\n",
    "\n",
    "def fact_digit(n):\n",
    "    max=0\n",
    "    s=0\n",
    "    while n>0:\n",
    "        r=n%10\n",
    "        s=s+factorial1(r)\n",
    "        n=n//10\n",
    "    if s==k:\n",
    "        print(\"yes\")\n",
    "    else:\n",
    "        print(\"no\")\n",
    "def factorial1(n):\n",
    "    sum=1\n",
    "    for i in range (1,n+1):\n",
    "        sum=sum*i\n",
    "    print(sum)\n",
    "    return sum\n",
    "fact_digit(k)\n",
    "\n",
    "    "
   ]
  },
  {
   "cell_type": "code",
   "execution_count": 23,
   "metadata": {},
   "outputs": [
    {
     "name": "stdout",
     "output_type": "stream",
     "text": [
      "enter a no 123454321\n",
      "palindrome\n"
     ]
    }
   ],
   "source": [
    "k=int(input(\"enter a no \"))\n",
    "\n",
    "\n",
    "def high_digit(n):\n",
    "    max=0\n",
    "    s=0\n",
    "    while n>0:\n",
    "        r=n%10\n",
    "        s=s*10+r\n",
    "        n=n//10\n",
    "    if s==k:\n",
    "        print(\"palindrome\")\n",
    "    else:\n",
    "        print(\"not a palindrome\")\n",
    "    return\n",
    "high_digit(k)\n",
    "    "
   ]
  },
  {
   "cell_type": "code",
   "execution_count": 25,
   "metadata": {},
   "outputs": [
    {
     "name": "stdout",
     "output_type": "stream",
     "text": [
      "p\n"
     ]
    }
   ],
   "source": [
    "str=\"sandeep\"\n",
    "k=len(str)\n",
    "print(str[k-1])"
   ]
  },
  {
   "cell_type": "code",
   "execution_count": 29,
   "metadata": {},
   "outputs": [
    {
     "name": "stdout",
     "output_type": "stream",
     "text": [
      "enter a no 2\n",
      "enter a no 3\n",
      "2  *  1 = 2\n",
      "2  *  2 = 4\n",
      "2  *  3 = 6\n",
      "2  *  4 = 8\n",
      "2  *  5 = 10\n",
      "2  *  6 = 12\n",
      "2  *  7 = 14\n",
      "2  *  8 = 16\n",
      "2  *  9 = 18\n",
      "2  *  10 = 20\n",
      "2  *  11 = 22\n",
      "3  *  1 = 3\n",
      "3  *  2 = 6\n",
      "3  *  3 = 9\n",
      "3  *  4 = 12\n",
      "3  *  5 = 15\n",
      "3  *  6 = 18\n",
      "3  *  7 = 21\n",
      "3  *  8 = 24\n",
      "3  *  9 = 27\n",
      "3  *  10 = 30\n",
      "3  *  11 = 33\n"
     ]
    }
   ],
   "source": [
    "x=int(input(\"enter a no \"))\n",
    "y=int(input(\"enter a no \"))\n",
    "for i in range (x,y+1):\n",
    "    for j in range (1,12):\n",
    "        print(i ,\" * \", j, \"=\", i*j)"
   ]
  },
  {
   "cell_type": "code",
   "execution_count": 30,
   "metadata": {},
   "outputs": [
    {
     "name": "stdout",
     "output_type": "stream",
     "text": [
      "enter a no 2\n",
      "enter a no 9\n",
      "2\n",
      "4\n",
      "6\n",
      "8\n"
     ]
    }
   ],
   "source": [
    "x=int(input(\"enter a no \"))\n",
    "y=int(input(\"enter a no \"))\n",
    "for i in range (x,y+1,2):\n",
    "    print(i)"
   ]
  },
  {
   "cell_type": "code",
   "execution_count": null,
   "metadata": {},
   "outputs": [],
   "source": []
  }
 ],
 "metadata": {
  "kernelspec": {
   "display_name": "Python 3",
   "language": "python",
   "name": "python3"
  },
  "language_info": {
   "codemirror_mode": {
    "name": "ipython",
    "version": 3
   },
   "file_extension": ".py",
   "mimetype": "text/x-python",
   "name": "python",
   "nbconvert_exporter": "python",
   "pygments_lexer": "ipython3",
   "version": "3.7.3"
  }
 },
 "nbformat": 4,
 "nbformat_minor": 2
}
